{
 "cells": [
  {
   "cell_type": "markdown",
   "id": "03af20e2-2e8f-4fb1-922d-35c1c1630ef2",
   "metadata": {},
   "source": [
    "# Mandyoc: MANtle DYnamics simulatOr Code\n",
    "\n",
    "*Mandyoc* is a finite element code written on top of the PETSc library to simulate thermo-chemical convection of the Earth’s mantle.\n",
    "Different linear and non-linear rheologies can be adopted, appropriately simulating the strain and stress pattern in the Earth’s crust and mantle, both in extensional or collisional tectonics.\n",
    "\n",
    "To simulate mantle thermochemical convection, we adopted the formulation for non-Newtonian fluids together with the Boussinesq approximation to solve the following equations of conservation of mass, momentum and energy:\n",
    "\n",
    "$$u_{i,i} = 0$$\n",
    "\n",
    "$$\\sigma_{ij,j} + g_{i} \\rho_{0}(1 - \\alpha(T - T_{0})) = 0$$\n",
    "\n",
    "$$\\frac{\\partial T}{\\partial t} + u_{i} T_{,i} = \\kappa T_{,ii} + \\frac{H}{c_p} - \\frac{\\alpha T g u_{e}}{c_{p}}$$\n",
    "  \n",
    "where $u$ is the velocity in the $i$ direction, $g$ is the gravity acceleration, $\\rho_{0}$ is the reference rock density at temperature $T_0$, $\\alpha$ is the coefficient of volumetric expansion, $T$ is the temperature, $\\kappa$ is the thermal diffusivity, $H$ is the rate of radiogenic heat per unit of mass, $c_{p}$ is the specific heat, $\\delta_{ij}$ is the Kronecker delta, and $\\sigma_{ij}$ is the stress tensor:\n",
    "\t\n",
    "$$\\sigma_{ij} = -P \\delta_{ij} + \\eta (u_{i,j} + u_{j,i})$$\n",
    "\n",
    "where $P$ is the dynamic pressure and $\\eta$ is the effective viscosity of the rock."
   ]
  },
  {
   "cell_type": "markdown",
   "id": "2f4ee51e-9d13-4a21-8fc5-6340cd372d04",
   "metadata": {},
   "source": [
    "The equations of conservation of mass, momentum and energy are solved using the finite element method.\n",
    "*Mandyoc* uses hexahedral elements for three dimensional grids and quadrilateral elements for two dimensional grids.\n",
    "The mass and momentum equations subsection presents the numerical methods used to solve the mass and momentum equations and the energy equation subsection shows how an implicit formulation was used to solve the energy equation.\n",
    "\n",
    "To simulate any scenario, the user **must** provide the parameter file `param.txt` and, if necessary, the ASCII files with the initial temperature field, velocity field and/or the initial interfaces of the model.\n",
    "The flowchart showing the steps *Mandyoc* takes to solve the equations of conservation of mass, momentum and energy.\n",
    "\t\n",
    "<img src=\"img/mandyoc-scheme.png\">\n",
    "\t\n",
    "\n",
    "It shows that once the code starts running and the input files are read, *Mandyoc* uses the effective viscosity field $\\eta$ to calculate the velocity field $u$ and checks if the convergence condition satisfies the tolerance $tol$ \n",
    "\n",
    "While the minimum tolerance is not reached, *Mandyoc* utilizes the Uzawa's method to iteratively calculate a new $u$ and $P$ fields.\n",
    "The updated fields modify the viscosity field $\\eta$, which in turn disturbs the velocity field again.\n",
    "These fields are updated until tolerance is reached.\n",
    "\n",
    "Additionally, the compositional factor $C$ is evaluated for an advection as:\n",
    "\n",
    "$$\\frac{\\partial C}{\\partial t} + u_{i}C_{,i} = 0$$\n",
    "\n",
    "Its solution is calculated placing randomly a number of particles within each finite element of the mesh, which are displaced based on the adjacent node velocity values.\n",
    "The individual value for each particle is obtained by linear interpolation of the node values.\n"
   ]
  },
  {
   "cell_type": "markdown",
   "id": "186aad35-b622-4ed2-a976-3b4ac1e3fb10",
   "metadata": {},
   "source": [
    "# Showcase: Continental rift\n",
    "\n",
    "This example simulates the evolution of divergent margins, taking into account the plastic rheology and the sin-rift geodynamics."
   ]
  },
  {
   "cell_type": "markdown",
   "id": "602a4afa-0a57-4b89-b46e-395bd9c01c5e",
   "metadata": {},
   "source": [
    "## Input files\n",
    "\n",
    "To run this model it necessary to create the input files.\n",
    "They are: \n",
    "* *Interface file* with the layers interfaces and their composition \n",
    "* *Initial temperature file* \n",
    "* *Initial velocity file*"
   ]
  },
  {
   "cell_type": "code",
   "execution_count": 1,
   "id": "f6ffa05e-8686-4f25-bd72-2afb0d357a47",
   "metadata": {},
   "outputs": [],
   "source": [
    "import numpy as np\n",
    "import matplotlib.pyplot as plt\n",
    "\n",
    "import pandas as pd"
   ]
  },
  {
   "cell_type": "markdown",
   "id": "7e910455-496c-46a6-9c26-1682d3e85eae",
   "metadata": {},
   "source": [
    "The domain of the model comprises 1600 x 300 km<sup>2</sup>, composed of a regular mesh with square elements of 1 x 1 km<sup>2</sup>."
   ]
  },
  {
   "cell_type": "code",
   "execution_count": 2,
   "id": "7b55fe16-6e46-437e-b9a9-ab9684418250",
   "metadata": {},
   "outputs": [],
   "source": [
    "lx, lz = 1600.0e3, 300.0e3\n",
    "\n",
    "nx, nz = 1601, 301"
   ]
  },
  {
   "cell_type": "markdown",
   "id": "899fa6b5-f0fd-4adc-946d-461c7d4a5f51",
   "metadata": {},
   "source": [
    "Create the meshgrid:"
   ]
  },
  {
   "cell_type": "code",
   "execution_count": 3,
   "id": "5dfebfb8-d495-46a0-8d64-f86fdfdea4e3",
   "metadata": {},
   "outputs": [],
   "source": [
    "x = np.linspace(0, lx, nx)\n",
    "z = np.linspace(-lz, 0, nz)\n",
    "\n",
    "xx, zz = np.meshgrid(x, z)"
   ]
  },
  {
   "cell_type": "markdown",
   "id": "c0254123-9fed-4cfa-b16b-a00f7b947a0e",
   "metadata": {
    "tags": []
   },
   "source": [
    "### Interface file\n",
    "\n",
    "The domain is subdivided into:\n",
    "* asthenosphere, \n",
    "* lithospheric mantle, \n",
    "* weak seed,\n",
    "* lower crust, \n",
    "* upper crust, and\n",
    "* sticky air. \n",
    "\n",
    "Each of them with their different compositional properties.\n",
    "\n",
    "To simulate the free surface, the *sticky air* approach is adopted, taking into account a 40 km thick layer with a relatively low viscosity material but with a compatible density with the atmospheric air.\n",
    "\n",
    "Additionally, to ensure the nucleation of rifting at the center of the numerical domain, a *weak seed* will add in the lithospheric mantle with a constant initial strain of 0.3."
   ]
  },
  {
   "cell_type": "code",
   "execution_count": 4,
   "id": "59341c72-d01b-4ab0-beaf-7006c393104f",
   "metadata": {},
   "outputs": [],
   "source": [
    "h_sair = 40.0e3\n",
    "\n",
    "h_lower_crust = 20.0e3\n",
    "\n",
    "h_upper_crust = 20.0e3\n",
    "\n",
    "h_litho = 130.0e3\n",
    "\n",
    "# Seed depth position under the crust: \n",
    "z_seed = 13.0e3"
   ]
  },
  {
   "cell_type": "markdown",
   "id": "998c3f86-f693-4da0-95ec-b36ab9911bb7",
   "metadata": {
    "tags": []
   },
   "source": [
    "Create the interfaces dictionary:"
   ]
  },
  {
   "cell_type": "code",
   "execution_count": 7,
   "id": "377118c0-7faf-4efc-8512-baf4a32ab85f",
   "metadata": {},
   "outputs": [],
   "source": [
    "interfaces = {\n",
    "    \"litho\": -np.ones(nx) * h_litho,  \n",
    "    \"seed_base\": -np.ones(nx) * (z_seed + h_lower_crust + h_upper_crust),\n",
    "    \"seed_top\": -np.ones(nx) * (z_seed + h_lower_crust + h_upper_crust),\n",
    "    \"lower_crust\": -np.ones(nx) * (h_lower_crust + h_upper_crust),\n",
    "    \"upper_crust\": -np.ones(nx) * h_upper_crust,\n",
    "    \"air\": np.zeros(nx),      \n",
    "}"
   ]
  },
  {
   "cell_type": "code",
   "execution_count": 8,
   "id": "79ab47b6-d552-4fa7-b6a4-1be8fe61f1a0",
   "metadata": {},
   "outputs": [
    {
     "data": {
      "text/plain": [
       "{'litho': array([-130000., -130000., -130000., ..., -130000., -130000., -130000.]),\n",
       " 'seed_base': array([-53000., -53000., -53000., ..., -53000., -53000., -53000.]),\n",
       " 'seed_top': array([-53000., -53000., -53000., ..., -53000., -53000., -53000.]),\n",
       " 'lower_crust': array([-40000., -40000., -40000., ..., -40000., -40000., -40000.]),\n",
       " 'upper_crust': array([-20000., -20000., -20000., ..., -20000., -20000., -20000.]),\n",
       " 'air': array([0., 0., 0., ..., 0., 0., 0.])}"
      ]
     },
     "execution_count": 8,
     "metadata": {},
     "output_type": "execute_result"
    }
   ],
   "source": [
    "interfaces"
   ]
  },
  {
   "cell_type": "code",
   "execution_count": 11,
   "id": "e3409868-d62f-4c43-8b0d-6871c6ae4acc",
   "metadata": {},
   "outputs": [],
   "source": [
    "for i in interfaces:\n",
    "    interfaces[i] = interfaces[i] -h_sair"
   ]
  },
  {
   "cell_type": "markdown",
   "id": "9d3029c6-f94e-4cd6-b473-ff870f087c4d",
   "metadata": {},
   "source": [
    "Plot interfaces:"
   ]
  },
  {
   "cell_type": "code",
   "execution_count": 14,
   "id": "1bf3f4a6-9cbf-40f5-956b-df9eeb349505",
   "metadata": {},
   "outputs": [
    {
     "data": {
      "image/png": "[encoded data removed]",
      "text/plain": [
       "<Figure size 1152x576 with 1 Axes>"
      ]
     },
     "metadata": {
      "needs_background": "light"
     },
     "output_type": "display_data"
    }
   ],
   "source": [
    "fig, ax = plt.subplots(figsize=(16, 8))\n",
    "\n",
    "for label, layer in interfaces.items():\n",
    "    ax.plot(x/1e3, (layer + h_sair)/1e3, label=f\"{label}\")\n",
    "\n",
    "ax.set_yticks(np.arange((-lz + h_sair)/1e3, h_sair/1e3, 10))\n",
    "ax.set_xlim([0, lx/1e3])\n",
    "ax.set_ylim([(-lz + h_sair)/1e3, h_sair/1e3])\n",
    "\n",
    "ax.set_xlabel(\"x [km]\")\n",
    "ax.set_ylabel(\"Depth [km]\")\n",
    "\n",
    "plt.title(\"Interfaces\")\n",
    "plt.legend(loc='upper right')\n",
    "\n",
    "plt.show()"
   ]
  },
  {
   "cell_type": "markdown",
   "id": "eb56bbcf-9659-47b2-a0d4-e5955f844c3e",
   "metadata": {},
   "source": [
    "Create the seed:"
   ]
  },
  {
   "cell_type": "code",
   "execution_count": 15,
   "id": "c10807dc-44d0-41d0-ba1a-a9fea7542f79",
   "metadata": {
    "tags": []
   },
   "outputs": [],
   "source": [
    "# Seed horizontal position:\n",
    "x_seed = 750.0e3\n",
    "# Seed thickness:\n",
    "h_seed = 6.0e3"
   ]
  },
  {
   "cell_type": "code",
   "execution_count": 16,
   "id": "e797cf82-2edd-49c0-9729-0b8ad8731bba",
   "metadata": {},
   "outputs": [],
   "source": [
    "d_x = lx / (nx - 1)\n",
    "\n",
    "cond = (x_seed - d_x <= x) & (x < x_seed + d_x)\n",
    "\n",
    "# Add a thickness in the seed layer:\n",
    "interfaces[\"seed_base\"][cond] = interfaces[\"seed_base\"][cond] - h_seed//2\n",
    "\n",
    "interfaces[\"seed_top\"][cond] = interfaces[\"seed_top\"][cond] + h_seed//2"
   ]
  },
  {
   "cell_type": "markdown",
   "id": "fd60506a-db62-4e24-972b-f2593d1653f2",
   "metadata": {},
   "source": [
    "Plot the interfaces:"
   ]
  },
  {
   "cell_type": "code",
   "execution_count": 17,
   "id": "0d5331cc-a42e-4eb1-b9f2-b49d53fa7618",
   "metadata": {},
   "outputs": [
    {
     "data": {
      "image/png": "[encoded data removed]",
      "text/plain": [
       "<Figure size 1152x576 with 1 Axes>"
      ]
     },
     "metadata": {
      "needs_background": "light"
     },
     "output_type": "display_data"
    }
   ],
   "source": [
    "fig, ax = plt.subplots(figsize=(16, 8))\n",
    "\n",
    "for label, layer in interfaces.items():\n",
    "    ax.plot(x/1e3, (layer + h_sair)/1e3, label=f\"{label}\")\n",
    "\n",
    "ax.set_yticks(np.arange((-lz + h_sair)/1e3, h_sair/1e3, 10))\n",
    "ax.set_xlim([0, lx/1e3])\n",
    "ax.set_ylim([(-lz + h_sair)/1e3, h_sair/1e3])\n",
    "\n",
    "ax.set_xlabel(\"x [km]\")\n",
    "ax.set_ylabel(\"Depth [km]\")\n",
    "\n",
    "plt.title(\"Interfaces\")\n",
    "plt.legend(loc='upper right')\n",
    "\n",
    "plt.show()"
   ]
  },
  {
   "cell_type": "markdown",
   "id": "2f37fa1e-7314-4e34-a359-8ca356a3907c",
   "metadata": {},
   "source": [
    "Now we can create the interface file. \n",
    "This file contains the layers properties and the interface's depth between these layers.\n",
    "The layer properties are:\n",
    "* Compositional factor (C)\n",
    "* Density (rho)\n",
    "* Radiogenic heat (H)\n",
    "* Pre-exponential scale factor (A)\n",
    "* Power law exponent (n)\n",
    "* Activation energy (Q)\n",
    "* Activation volume (V)\n",
    "\n",
    "We adopted a visco-plastic rheology where the effective viscosity $\\eta$ combines nonlinear power law viscous rheology and a plastic yield criterion.\n",
    "The viscous component is given by:\n",
    "\n",
    "$$\\eta_{visc} = C A^{-1/n} \\dot{\\varepsilon}^{(1-n)/n} \\exp{\\frac{Q + V P}{n R T}}$$"
   ]
  },
  {
   "cell_type": "markdown",
   "id": "ddf31ea8-887d-4c26-a61d-01cc4b1e35b1",
   "metadata": {},
   "source": [
    "|     | Asthenosphere | Litho mantle | Seed       | Litho mantle over the seed | Lower crust | Upper crust | Air     |\n",
    "| --- | ------------- | ------------ | ---------- | -------------------------- | ----------- | ----------- | ------- |\n",
    "| C   | 1.0           | 1.0          | 0.1        | 1.0                        | 1.0         | 1.0         | 1.0     |\n",
    "| rho | 3378.0        | 3354.0       | 3354.0     | 3354.0                     | 2800.0      | 2700.0      | 1.0     |\n",
    "| H   | 0.0           | 9.0e-12      | 9.0e-12    | 9.0e-12                    | Hlc         |  Huc        | 0.0     |\n",
    "| A   | 1.393e-14     | 2.4168e-15   | 2.4168e-15 | 2.4168e-15                 | 8.574e-28   | 8.574e-28   | 1.0e-18 |\n",
    "| n   | 3.0           | 3.5          | 3.5        | 3.5                        | 4.0         | 4.0         | 1.0     |\n",
    "| Q   | 429.0e3       | 540.0e3      | 540.0e3    | 540.0e3                    | 222.0e3     | 222.0e3     | 0.0     |\n",
    "| V   | 15.0e-6       | 25.0e-6      | 25.0e-6    | 25.0e-6                    | 0.0         | 0.0         | 0.0     |\n",
    "\n"
   ]
  },
  {
   "cell_type": "code",
   "execution_count": 18,
   "id": "5247e837-9741-4bec-8173-3fc523ec13d3",
   "metadata": {},
   "outputs": [],
   "source": [
    "# Define the dencity and the radiogenic heat for the upper and lower crust in  kg/m3 and W/kg:\n",
    "rho_uc = 2700.0\n",
    "rho_lc = 2800.0\n",
    "Huc = 2.5e-6 / rho_uc\n",
    "Hlc = 0.8e-6 / rho_lc"
   ]
  },
  {
   "cell_type": "code",
   "execution_count": 19,
   "id": "1f53db35-71fc-4de9-a8e7-727a2a53ad27",
   "metadata": {},
   "outputs": [],
   "source": [
    "# DEfien the layer properties:\n",
    "layer_properties = f\"\"\" \n",
    "        C   1.0       1.0        0.1        1.0        1.0         1.0         1.0\n",
    "        rho 3378.0    3354.0     3354.0     3354.0     {rho_lc}    {rho_uc}    1.0\n",
    "        H   0.0       9.0e-12    9.0e-12    9.0e-12    {Hlc}       {Huc}       0.0\n",
    "        A   1.393e-14 2.4168e-15 2.4168e-15 2.4168e-15 8.574e-28   8.574e-28   1.0e-18\n",
    "        n   3.0       3.5        3.5        3.5        4.0         4.0         1.0\n",
    "        Q   429.0e3   540.0e3    540.0e3    540.0e3    222.0e3     222.0e3     0.0\n",
    "        V   15.0e-6   25.0e-6    25.0e-6    25.0e-6    0.0         0.0         0.0\n",
    "    \"\"\""
   ]
  },
  {
   "cell_type": "code",
   "execution_count": 20,
   "id": "f978d22a-515c-44a1-b03f-25c38dfcbd46",
   "metadata": {},
   "outputs": [],
   "source": [
    "# Create and save the interface file:\n",
    "with open(\"interfaces.txt\", \"w\") as f:\n",
    "    # Write the layer properties\n",
    "    for line in layer_properties.split(\"\\n\"):\n",
    "        line = line.strip()\n",
    "        if len(line):\n",
    "            f.write(\" \".join(line.split()) + \"\\n\")\n",
    "\n",
    "    # Write the interfaces of the layers adding the thickness of the sticky air layer:\n",
    "    data = np.array(tuple(interfaces.values())).T\n",
    "    np.savetxt(f, data, fmt=\"%.1f\")"
   ]
  },
  {
   "cell_type": "markdown",
   "id": "a0bfc4ae-81f5-493e-97d1-53be011034d1",
   "metadata": {},
   "source": [
    "### Initial temperature file\n",
    "\n",
    "The initial temperature structure is depth dependent and is 0°C at the surface and 1300°C at the base of the lithosphere at 130 km.\n",
    "With these boundary conditions, the initial temperature structure in the interior of the lithosphere is given by the solution of *thermal diffusivity* equation:\n",
    "\n",
    "$$ \\kappa \\frac{\\partial^2 T(z)}{\\partial z^2} + \\frac{H(z)}{c_p} = 0$$\n",
    "\n",
    "where $H(z)$ is the internal heat production of the different layers.\n",
    "\n",
    "The sublithospheric temperature follows an *adiabatic* increase up to the bottom of the model:\n",
    "\n",
    "$$T = T_p \\exp{\\frac{g \\alpha z}{c_p}}$$\n",
    "\n",
    "Where $T_p$ is the potential temperature for the mantle, $g$ is the gravity value, $\\alpha$ is the volumetric expansion coefficient, $c_p$ is the specific heat capacity."
   ]
  },
  {
   "cell_type": "code",
   "execution_count": 21,
   "id": "65323a93-9796-4b42-989e-30479ed7eb8c",
   "metadata": {},
   "outputs": [],
   "source": [
    "kappa = 1.0e-6 # m^2/s\n",
    "ccapacity = 1250 # J/(kg K)\n",
    "tem_p = 1262  # °C\n",
    "g = -10 # m/s^2\n",
    "alpha = 3.28e-5 # 1/K"
   ]
  },
  {
   "cell_type": "code",
   "execution_count": 22,
   "id": "e24b2459-e607-4284-8fc0-4359860b19cf",
   "metadata": {},
   "outputs": [],
   "source": [
    "# Temperature when z  is over 130 km:\n",
    "temp_z = 1300 * (-z - h_sair) / (h_litho)\n",
    "\n",
    "# Sublithospheric temperature:\n",
    "temp_adiabatic = tem_p / np.exp(g * alpha * (-z - h_sair) / ccapacity)\n",
    "\n",
    "# T = 0 when z is over zero:\n",
    "temp_z[temp_z < 0.0] = 0.0\n",
    "# When z is below 130 km (Lithosperic depth), the T = temp_adiabatic:\n",
    "temp_z[temp_z > temp_adiabatic] = temp_adiabatic[temp_z > temp_adiabatic]\n"
   ]
  },
  {
   "cell_type": "markdown",
   "id": "920d7d03-c160-45a8-9cc8-a8d552a7891d",
   "metadata": {},
   "source": [
    "Now, we will apply the thermal diffusivity in the model.\n",
    "First, create the internal heat production model:"
   ]
  },
  {
   "cell_type": "code",
   "execution_count": 23,
   "id": "042256b9-91b5-4157-af6e-4a502ebc6436",
   "metadata": {},
   "outputs": [],
   "source": [
    "H = np.zeros_like(temp_z)\n",
    "\n",
    "# Add the H value for the upper crust:\n",
    "cond = (z <= interfaces[\"air\"][0]) & (z > interfaces[\"upper_crust\"][0])\n",
    "H[cond] = Huc\n",
    "\n",
    "# Add the H value for the lower crust:\n",
    "cond = (z <= interfaces[\"upper_crust\"][0]) & (z > interfaces[\"lower_crust\"][0])\n",
    "H[cond] = Hlc"
   ]
  },
  {
   "cell_type": "code",
   "execution_count": 24,
   "id": "6aae7034-821c-4f95-a0d2-454a8e1e8b7d",
   "metadata": {},
   "outputs": [],
   "source": [
    "Taux = np.copy(temp_z)\n",
    "t = 0\n",
    "dt = 10000\n",
    "dt_sec = dt * 365 * 24 * 3600\n",
    "cond = (z < interfaces[\"litho\"][0]) | (temp_z == 0)\n",
    "dz = lz / (nz - 1)\n",
    "\n",
    "# Apply the thermal diffusivity\n",
    "while t < 500.0e6:\n",
    "    temp_z[1:-1] += (\n",
    "        kappa * dt_sec * ((temp_z[2:] + temp_z[:-2] - 2 * temp_z[1:-1]) / dz ** 2)\n",
    "        + H[1:-1] * dt_sec / ccapacity\n",
    "    )\n",
    "    temp_z[cond] = Taux[cond]\n",
    "    t = t + dt\n"
   ]
  },
  {
   "cell_type": "code",
   "execution_count": 25,
   "id": "1cd460a1-148e-4ee6-b258-d7c77d3e7ef7",
   "metadata": {},
   "outputs": [
    {
     "name": "stdout",
     "output_type": "stream",
     "text": [
      "(301, 1601)\n"
     ]
    }
   ],
   "source": [
    "temp_z = np.ones_like(xx) * temp_z[:, None]\n",
    "\n",
    "print(np.shape(temp_z))\n",
    "\n",
    "# Save the initial temperature file\n",
    "np.savetxt(\n",
    "    \"input_temperature_0.txt\", \n",
    "    np.reshape(temp_z, (nx * nz)), \n",
    "    header=\"T1\\nT2\\nT3\\nT4\"\n",
    ")\n"
   ]
  },
  {
   "cell_type": "code",
   "execution_count": 26,
   "id": "12f765d9-5395-487c-9355-eddf7e64dc55",
   "metadata": {},
   "outputs": [
    {
     "data": {
      "image/png": "[encoded data removed]",
      "text/plain": [
       "<Figure size 1152x576 with 3 Axes>"
      ]
     },
     "metadata": {
      "needs_background": "light"
     },
     "output_type": "display_data"
    }
   ],
   "source": [
    "fig, (ax0, ax1) = plt.subplots(nrows=1, ncols=2, figsize=(16, 8), sharey=True)\n",
    "\n",
    "# Temperature field:\n",
    "im1 = ax0.contourf(\n",
    "    xx/1.0e3,\n",
    "    (zz + h_sair)/1.0e3,\n",
    "    temp_z,\n",
    "    levels=np.arange(0, 1610, 100)\n",
    "    )\n",
    "\n",
    "ax0.set_ylim([(-lz + h_sair)/1e3, h_sair/1e3])\n",
    "ax0.set_ylabel(\"Depth [km]\")\n",
    "ax0.set_xlabel(\"x [km]\")\n",
    "cbar = fig.colorbar(im1, orientation='vertical', ax=ax0)\n",
    "cbar.set_label(\"Temperature [°C]\")\n",
    "\n",
    "# Profile:\n",
    "ax1.set_title(\"Thermal profile [°C]\")\n",
    "ax1.plot(temp_z[:, 0], (z + h_sair)/1.0e3, \"-k\")\n",
    "# Add interfaces:\n",
    "for label, layer in interfaces.items():\n",
    "    ax1.plot(x/1e3, (layer + h_sair)/1e3, label=f\"{label}\")\n",
    "\n",
    "ax1.set_ylim([(-lz + h_sair)/1e3, h_sair/1e3])\n",
    "ax1.set_xlabel(\"Temperature [°C]\")\n",
    "ax1.set_ylabel(\"Depth [km]\")\n",
    "\n",
    "plt.legend(loc=\"lower left\")\n",
    "\n",
    "plt.show()"
   ]
  },
  {
   "cell_type": "markdown",
   "id": "a1215f57-19bf-4428-9dcc-9e01ed00c933",
   "metadata": {},
   "source": [
    "### Initial velocity field\n",
    "\n",
    "The velocity field simulate the lithospheric stretching assuming a reference frame fixed on the lithospheric plate on the left side of the model, and the plate on the right side moves rightward with a velocity of $v_{rift} = 1$ cm/year.\n",
    "The velocity field in the left and right boundaries of the model is chosen to ensure conservation of mass and is symmetrical if the adopted reference frame movies to the right with a velocity of $v_{rift}/2$ cm/year relative to the left plate.\n",
    "The inflow on the vertical boundaries below the lithosphere compensates for outflow.\n",
    "\n",
    "So, the horizontal velocity field along the left and right borders of the domain are:\n",
    "\n",
    "$$\n",
    "velocity_x(x = 0) = \\left\\{ \n",
    "    \\begin{array}{rl}\n",
    "        0, & \\text{$z > -h_c - h_{sair}$} \\\\\n",
    "        -v \\frac{z + h_c + h_{sair}}{h_a}, & \\text{$z \\leq -h_c - h_{sair}$} \n",
    "    \\end{array}\n",
    "\\right.\n",
    "$$\n",
    "\n",
    "$$\n",
    "velocity_x(x = lx) = \\left\\{ \n",
    "    \\begin{array}{rl}\n",
    "        0, & \\text{$z > h_{sair}$} \\\\\n",
    "        v_{rift}, & \\text{$z > -h_c - h_{sair}$} \\\\\n",
    "        v \\frac{z + h_c + h_{sair}}{h_a} + v_{rift}, & \\text{$z \\leq -h_c - h_{sair}$} \n",
    "    \\end{array}\n",
    "\\right.\n",
    "$$\n",
    "\n",
    "where $v = v_{rift} \\frac{lz - h_{sair}}{h_a}$ so that: \n",
    "$$\n",
    "\\int^{0}_{-lz} velocity_x(x = 0) = \\int^{0}_{-lz} velocity_x(x = lx) = \\frac{v h_a}{2} \n",
    "$$\n",
    "\n",
    "$h_c = 150$ km is the thickness of the upper layer with constant velocity, corresponding to the lithosphere $h_{litho} = 130$ km and 20 km of the asthenosphere and $h_a = lz - h_c - h_{sair}$"
   ]
  },
  {
   "cell_type": "code",
   "execution_count": 65,
   "id": "02844c8f-4ada-4106-82b6-507f536a9dd9",
   "metadata": {},
   "outputs": [],
   "source": [
    "# Convert 1 cm/year to m/s:\n",
    "v_rift = 1e-2 / (365 * 24 * 3600)\n",
    "\n",
    "h_c= 150.0e3\n",
    "\n",
    "h_a = lz - h_sair - h_c\n",
    "\n",
    "v = v_rift * (lz - h_sair) / h_a"
   ]
  },
  {
   "cell_type": "code",
   "execution_count": 75,
   "id": "59b0f0c8-eee2-4cd0-b071-3f306cca0aca",
   "metadata": {},
   "outputs": [],
   "source": [
    "# Create horizontal and vertical velocity:\n",
    "velocity_xx, velocity_zz = np.zeros_like(xx), np.zeros_like(xx)"
   ]
  },
  {
   "cell_type": "markdown",
   "id": "f3647811-0a59-4ccc-88ce-1b231ba3039a",
   "metadata": {},
   "source": [
    "Velocity for the left side (x == 0)\n"
   ]
  },
  {
   "cell_type": "code",
   "execution_count": 76,
   "id": "ef386ae6-b5ec-43aa-ba21-133554441327",
   "metadata": {},
   "outputs": [],
   "source": [
    "cond = (xx == 0) & (zz <= -h_c - h_sair)\n",
    "velocity_xx[cond] += -v * (zz[cond] + h_c + h_sair) / h_a"
   ]
  },
  {
   "cell_type": "code",
   "execution_count": 77,
   "id": "31b778af-0eff-4e54-8b9d-cc2947e1330f",
   "metadata": {},
   "outputs": [
    {
     "data": {
      "text/plain": [
       "[<matplotlib.lines.Line2D at 0x7f064b73ee20>]"
      ]
     },
     "execution_count": 77,
     "metadata": {},
     "output_type": "execute_result"
    },
    {
     "data": {
      "image/png": "[encoded data removed]",
      "text/plain": [
       "<Figure size 432x288 with 1 Axes>"
      ]
     },
     "metadata": {
      "needs_background": "light"
     },
     "output_type": "display_data"
    }
   ],
   "source": [
    "plt.plot(velocity_xx[:, 0], (z) / 1e3, \"k-\", label=\"left side\")\n"
   ]
  },
  {
   "cell_type": "markdown",
   "id": "cd08539c-ff58-4971-aea2-32c3c132a3b1",
   "metadata": {},
   "source": [
    "Velocity for the rigth side (x == lx):"
   ]
  },
  {
   "cell_type": "code",
   "execution_count": 78,
   "id": "4eaa4007-590c-4af3-9708-970c0da7ae75",
   "metadata": {},
   "outputs": [],
   "source": [
    "cond = (xx == lx) & (zz > -h_c - h_sair)\n",
    "velocity_xx[cond] += v_rift\n",
    "\n",
    "cond = (xx == lx)& (zz <= -h_c - h_sair)\n",
    "velocity_xx[cond] += v * (zz[cond] + h_c + h_sair) / h_a + v_rift\n",
    "\n",
    "frac_air = 10e3\n",
    "velocity_xx[zz >= -h_sair + frac_air] = 0"
   ]
  },
  {
   "cell_type": "code",
   "execution_count": 79,
   "id": "235c8a48-1419-4db0-be65-9eed917f8156",
   "metadata": {},
   "outputs": [
    {
     "data": {
      "text/plain": [
       "[<matplotlib.lines.Line2D at 0x7f064b6ae520>]"
      ]
     },
     "execution_count": 79,
     "metadata": {},
     "output_type": "execute_result"
    },
    {
     "data": {
      "image/png": "[encoded data removed]",
      "text/plain": [
       "<Figure size 432x288 with 1 Axes>"
      ]
     },
     "metadata": {
      "needs_background": "light"
     },
     "output_type": "display_data"
    }
   ],
   "source": [
    "plt.plot(velocity_xx[:, -1], (z) / 1e3, \"k-\", label=\"left side\")"
   ]
  },
  {
   "cell_type": "markdown",
   "id": "5cb477bc-0b74-434d-b619-6ad35d0bf727",
   "metadata": {},
   "source": [
    "Due to the mass conservation is assumed, the sum of the integrals over the boundaries (material flow) must be zero."
   ]
  },
  {
   "cell_type": "code",
   "execution_count": 92,
   "id": "153d9cca-0fb0-4ee1-b052-a919738ef308",
   "metadata": {},
   "outputs": [
    {
     "name": "stdout",
     "output_type": "stream",
     "text": [
      "Sum of the integrals over the boundary is: 3.012430238457634e-06\n"
     ]
    }
   ],
   "source": [
    "# For the left side:\n",
    "v0 = velocity_xx[xx == 0]\n",
    "sum_velocity_left = np.sum(v0[1:-1]) + (v0[0] + v0[-1]) / 2.0\n",
    "\n",
    "# For the right side:\n",
    "vf = velocity_xx[(xx == lx)]\n",
    "sum_velocity_right = np.sum(vf[1:-1]) + (vf[0] + vf[-1]) / 2.0\n",
    "\n",
    "diff = (sum_velocity_right - sum_velocity_left) * dz\n",
    "\n",
    "print(\"Sum of the integrals over the boundary is:\", diff)"
   ]
  },
  {
   "cell_type": "markdown",
   "id": "c95d6cbe-0381-4ed6-9fc1-81612f25832f",
   "metadata": {},
   "source": [
    "If the sum of the integrals over the boundaries is not zero, because rounding errors, we add a very small flow on the top to compensate this difference. In fact this is a very small correction."
   ]
  },
  {
   "cell_type": "code",
   "execution_count": 93,
   "id": "ec148e18-3666-4127-ad0c-51be2817d31c",
   "metadata": {},
   "outputs": [],
   "source": [
    "velocity_zz[zz == 0] = -diff / lx"
   ]
  },
  {
   "cell_type": "markdown",
   "id": "f460ee58-5127-4a20-be59-2e3dd986356c",
   "metadata": {},
   "source": [
    "Plot the velocity: "
   ]
  },
  {
   "cell_type": "code",
   "execution_count": 101,
   "id": "248854b1-0bd6-4958-a840-9452f2905107",
   "metadata": {},
   "outputs": [
    {
     "data": {
      "image/png": "[encoded data removed]",
      "text/plain": [
       "<Figure size 648x648 with 2 Axes>"
      ]
     },
     "metadata": {
      "needs_background": "light"
     },
     "output_type": "display_data"
    }
   ],
   "source": [
    "fig, (ax0, ax1) = plt.subplots(nrows=1, ncols=2, figsize=(9, 9), sharey=True)\n",
    "\n",
    "ax0.plot(velocity_xx[:, 0], (z + h_sair)/1e3, \"k-\", label=\"left side\")\n",
    "ax1.plot(velocity_zz[:, 0], (z + h_sair)/1e3, \"k-\", label=\"left side\")\n",
    "\n",
    "ax0.plot(velocity_xx[:, -1], (z + h_sair)/1e3, \"r-\", label=\"right side\")\n",
    "ax1.plot(velocity_zz[:, -1], (z + h_sair)/1e3, \"r-\", label=\"right side\")\n",
    "\n",
    "ax0.legend()\n",
    "ax1.legend()\n",
    "\n",
    "ax0_xlim = ax0.get_xlim()\n",
    "ax1_xlim = ax1.get_xlim()\n",
    "\n",
    "ax0.set_yticks(np.arange(-h_sair, (-lz + h_sair)/1e3, 10))\n",
    "#ax1.set_yticks(np.arange(0, Lz / 1000, 20))\n",
    "\n",
    "ax0.set_ylim([(-lz + h_sair)/1e3 , 0])\n",
    "\n",
    "ax0.grid()\n",
    "ax0.set_xlim([-8e-10, 8e-10])\n",
    "ax1.set_xlim([-8e-10, 8e-10])\n",
    "\n",
    "ax0.set_xlabel(\" Velocity [m/s]\")\n",
    "ax1.set_xlabel(\" Velocity [m/s]\")\n",
    "ax0.set_ylabel(\"Depth [km]\")\n",
    "\n",
    "\n",
    "ax0.set_title(\"Horizontal component of velocity\")\n",
    "ax1.set_title(\"Vertical component of velocity\")\n",
    "\n",
    "plt.show()\n"
   ]
  },
  {
   "cell_type": "markdown",
   "id": "a1f229cc-ccae-4fd4-87b4-3b1b0f5e0340",
   "metadata": {},
   "source": [
    "Create and save the initial velocity file:"
   ]
  },
  {
   "cell_type": "code",
   "execution_count": 94,
   "id": "ded6a751-e61f-40ae-b81b-9318ac8c466e",
   "metadata": {},
   "outputs": [],
   "source": [
    "velocity = np.zeros((2, nx * nz))\n",
    "\n",
    "velocity[0, :] = np.copy(np.reshape(velocity_xx, nx * nz))\n",
    "velocity[1, :] = np.copy(np.reshape(velocity_zz, nx * nz))\n",
    "\n",
    "velocity = np.reshape(velocity.T, (np.size(velocity)))\n",
    "\n",
    "np.savetxt(\"input_velocity_0.txt\", velocity, header=\"v1\\nv2\\nv3\\nv4\")"
   ]
  },
  {
   "cell_type": "markdown",
   "id": "8ded04b7-2448-4e5b-8c9f-ec1a74605cf4",
   "metadata": {},
   "source": [
    "### Create the parameter file\n",
    "\n",
    "The parameter file contains the information that is necessary for the simulation to run.\n",
    "There are many parameters to define, so I will only show some of them that are important for this model. \n",
    "But I invite you to visit the Mandyoc documentation website to know more about the parameter file. \n",
    "\n",
    "* Define the number of Lagrangian particles in each element, *particles_per_element = 40*. \n",
    "\n",
    "* Specify the maximum time and step of the simulation with *step_max = 5000* and *time_max = 100.0e6* (100 My).\n",
    "\n",
    "* Assume that the temperature at all boundaries is fixed during the simulation, with the nodes of the model in the air maintained at 0 °C.\n",
    " \n",
    "* For the velocity, free slip is applied on the top and bottom of the numerical domain. \n",
    "\n",
    "* To avoid a symmetric, laterally homogeneous model, we introduced a random perturbation of the initial strain in each finite element of the model. \n",
    "\n",
    "* Set the pre-defined rheology model to use during simulation. In this case: *rheology_model = 9* \n"
   ]
  },
  {
   "cell_type": "code",
   "execution_count": null,
   "id": "da83436c-2938-4516-a072-06e0dbf4ac11",
   "metadata": {},
   "outputs": [],
   "source": [
    "params = f\"\"\"\n",
    "# Geometry\n",
    "{nx}                                  = 81            # n. of nodes in the horizontal direction\n",
    "{nz}                                  = 81            # n. of nodes in the vertical direction\n",
    "{lx}                                  = 91420.0       # extent in the horizontal direction\n",
    "{lz}                                  = 100000.       # extent in the vertical direction\n",
    "\n",
    "# Simulation options\n",
    "solver                              = direct        # set the solver to be direct or iterative, default is direct [direct/iterative]\n",
    "denok                               = 1.0e-15       # tolerance criterion for the Uzawa's scheme, default is 1.0e-4\n",
    "rtol                                = 1.0e-7        # the absolute size of the residual norm (relevant only for iterative methods), default is 1.0e-5\n",
    "RK4                                 = Euler         # particles advection method, default is Euler [Euler/Runge-Kutta]\n",
    "Xi_min                              = 1.0e-7        # tolerance criterion for the convergence of the non-linear flow, default is 1.0e-14\n",
    "random_initial_strain               = 0.3           # non-dimensional value for the initial strain perturbation for the entire domain, default is 0.0 \n",
    "pressure_const                      = -1.0          # set constant pressure value for the domain (relevant only when 2D is plain view), default is -1.0 (i.e. not used) [Pa]\n",
    "initial_dynamic_range               = True         # method to smoothen convergence of the velocity field in scenarios with wide viscosity range, default is False [True/False], Gerya (2019)\n",
    "periodic_boundary                   = False         # allows simulation with periodic boundary in the horizontal direction, default is False [True/False]\n",
    "high_kappa_in_asthenosphere         = False         # mimics high heat transport in the asthenosphere increasing its thermal diffusivity coefficient, default is False [True/False]\n",
    "basal_heat                          = 0.0          # set basal heat flux value, default is -1.0 (i.e. not used) [W/m^2]\n",
    "                         \n",
    "K_fluvial                           = 2.0e-7        # default is 2.0E-7\n",
    "m_fluvial                           = 1.0           # default is 1.0\n",
    "\n",
    "# Particles options\n",
    "particles_per_element               = 40          # n. of Lagrangian particles in each element, default is 81\n",
    "particles_per_element_x             = 0             # n. of Lagrangian particles in the horizontal direction, default is 0 for automatic calculation\n",
    "particles_per_element_z             = 0             # n. of Lagrangian particles in the vertical direction, default is 0 for automatic calculation\n",
    "particles_perturb_factor            = 0.7           # indicates the amount of perturbation of the initial location of the particles relative to a regular grid distribution. Default is 0.5 [values are between 0 and 1]\n",
    "\n",
    "# Surface processes\n",
    "sp_surface_tracking                 = False         # allows free surface tracking across time and outputs it, default is False [True/False]\n",
    "sea_level                           = 0.0           # sea level used to limit the influence of the surface process, default is 0.0 [m]\n",
    "sp_surface_processes                = False         # allows erosion and sedimentation simulation, default is False [True/False]\n",
    "sp_dt                               = 1.0e5             # time step for surface processes simulation, default is 0 [years]\n",
    "a2l                                 = True          # allows the conversion of air particles to land particles during sedimentation, default is True [True/False]\n",
    "sp_mode                             = 5             # specify the surface processes method, default is 1\n",
    "free_surface_stab                   = True          # set if the free surface stabilization algorithm (FSSA) is used, default is True [True/False], Kaus et al. (2010)\n",
    "theta_FSSA                          = 0.5           # weight of the influence of the FSSA method, default is 0.5 (only relevant when <free_surface_stab> is True)\n",
    "# sticky_blanket_air                  = False         # allows the increase of viscosity for the first air layer of particles, default is False [True/False]\n",
    "# precipitation_profile_from_ascii    = False         # set if precipitation profile along the horizontal axis is read from an ASCII file, default is False [True/False]\n",
    "# climate_change_from_ascii           = False         # if True, re-scales through time the precipitation profile using an ASCII file, default is False [True/False]\n",
    "\n",
    "sp_d_c                              = 1.0          # default is 0.0\n",
    "plot_sediment                       = False         # default is False [True/False]\n",
    "\n",
    "# Time constrains\n",
    "step_max                            = 5000          # maximum time-step of the simulation [steps]\n",
    "time_max                            = 100.0e6    # maximum time of the simulation [years]\n",
    "dt_max                              = 10.0e6      # maximum time between steps of the simulation [years]\n",
    "step_print                          = 10            # make output files every <step_print>\n",
    "sub_division_time_step              = 0.5           # re-scale value for the calculated time-step, default is 1.0\n",
    "initial_print_step                  = 0             # <step_print> used until <initial_print_max_time>, default is 0 (i.e. not used)\n",
    "initial_print_max_time              = 1.0e6         # maximum time to make output files every <initial_print_step>, default is 1.0e6 [years]\n",
    "\n",
    "# Viscosity\n",
    "viscosity_reference                 = 1.0e26        # reference mantle viscosity [Pa.s]\n",
    "viscosity_max                       = 1.0e25        # maximum viscosity during simulation [Pa.s]\n",
    "viscosity_min                       = 1.0e18        # minimum viscosity during simulation [Pa.s]\n",
    "viscosity_per_element               = constant      # sets if viscosity is constant or linearly variable for every element, default is variable [constant/variable]\n",
    "viscosity_mean_method               = arithmetic      # defines method do calculate the viscosity for each element, default is harmonic [harmonic/arithmetic]\n",
    "viscosity_dependence                = pressure      # defines if viscosity depends on pressure or depth, default is depth [pressure/depth]\n",
    " \n",
    "# External ASCII inputs/outputs\n",
    "interfaces_from_ascii               = True          # set if interfaces between lithologies are read from an ASCII file (interfaces.txt), default is False [True/False]\n",
    "n_interfaces                        = {len(interfaces.keys())}            # set the number of interfaces to be read from the interfaces ASCII file (interfaces.txt) \n",
    "temperature_from_ascii              = True         # set if initial temperature is read from an ASCII file (input_temperature_0.txt), default is False [True/False]\n",
    "velocity_from_ascii                 = True         # set if initial velocity field is read from an ASCII file (input_velocity_0.txt), default is False [True/False]\n",
    "variable_bcv                        = False         # allows velocity field re-scaling through time according to an ASCII file (scale_bcv.txt), default is False [True/False]\n",
    "multi_velocity                      = False         # set if boundary velocities can change with time from ASCII file(s) (multi_veloc.txt and additional input_velocity_[X].txt files), default is False [True/False]\n",
    "binary_output                       = False         # set if output is in binary format, default is False [True/False]\n",
    "print_step_files                    = True          # set if the particles position are printed to an output file, default is True [True/False]\n",
    "\n",
    "sticky_blanket_air                  = True         # default is False [True/False]\n",
    "precipitation_profile_from_ascii    = False         # default is False [True/False]\n",
    "climate_change_from_ascii           = False         # default is False [True/False]\n",
    "checkered                           = False         # Print one element in the print_step_files (default is False [True/False])\n",
    "\n",
    "geoq                                = on            # ok\n",
    "geoq_fac                            = 100.0           # ok\n",
    "\n",
    "# Physical parameters\n",
    "temperature_difference              = 1500.            # temperature difference between the top and bottom of the model (relevant if <temperature_from_ascii> is False) [K]\n",
    "thermal_expansion_coefficient       = 3.28e-5       # value for the coefficient of thermal expansion [1/K]\n",
    "thermal_diffusivity_coefficient     = 1.0e-6        # value for the coefficient of thermal diffusivity [m^2/s]\n",
    "gravity_acceleration                = 10.0          # value for the gravity acceleration [m/s^2]\n",
    "density_mantle                      = 3300.         # value for the mantle reference density [kg/m^3]\n",
    "external_heat                       = 0.0e-12       # ok\n",
    "heat_capacity                       = 1250.         # value for the heat capacity [J/K]\n",
    "\n",
    "non_linear_method                   = on           # set if non linear method is used for the momentum equation [on/off]\n",
    "adiabatic_component                 = on           # set if adiabatic heating/cooling is active [on/off]\n",
    "radiogenic_component                = on           # set if radiogenic heating is active [on/off]\n",
    "\n",
    "# Velocity boundary conditions\n",
    "top_normal_velocity                 = fixed         # set the normal velocity on the top side of the model to be fixed or free [fixed/free] \n",
    "top_tangential_velocity             = tree         # set the tangential velocity on the top side of the model to be fixed or free [fixed/free]\n",
    "bot_normal_velocity                 = fixed         # set the normal velocity on the bottom side of the model to be fixed or free [fixed/free]\n",
    "bot_tangential_velocity             = free         # set the tangential velocity on the bot side of the model to be fixed or free [fixed/free]\n",
    "left_normal_velocity                = fixed         # set the normal velocity on the left side of the model to be fixed or free [fixed/free]\n",
    "left_tangential_velocity            = fixed          # set the tangential velocity on the left side of the model to be fixed or free [fixed/free]\n",
    "right_normal_velocity               = fixed         # set the normal velocity on the right side of the model to be fixed or free [fixed/free]\n",
    "right_tangential_velocity           = fixed          # set the tangential velocity on the right side of the model to be fixed or free [fixed/free]\n",
    "\n",
    "surface_velocity                    = 0.0e-2        # ok\n",
    "\n",
    "# Temperature boundary conditions\n",
    "top_temperature                     = fixed         # set temperature on the top side of the model to be fixed or free [fixed/free]\n",
    "bot_temperature                     = fixed         # set temperature on the bottom side of the model to be fixed or free [fixed/free]\n",
    "left_temperature                    = fixed          # set temperature on the left side of the model to be fixed or free [fixed/free]\n",
    "right_temperature                   = fixed          # set temperature on the right side of the model to be fixed or free [fixed/free]\n",
    "\n",
    "rheology_model                      = 9            # flag n. of a pre-defined rheology model to use during simulation\n",
    "\n",
    "T_initial                           = 3             # flag n. of a pre-defined temperature model to use during simulation (relevant when <temperature_from_ascii> is False)\n",
    "\"\"\"\n",
    "# Create the parameter file\n",
    "with open(\"param.txt\", \"w\") as f:\n",
    "    for line in params.split(\"\\n\"):\n",
    "        line = line.strip()\n",
    "        if len(line):\n",
    "            f.write(\" \".join(line.split()) + \"\\n\")\n",
    "\n"
   ]
  },
  {
   "cell_type": "markdown",
   "id": "31924a7b-8081-43c3-a70b-764b126e255e",
   "metadata": {},
   "source": [
    "## Run the model\n",
    "\n",
    "In this example, mandyoc use the following flags:\n",
    "```\n",
    "-seed 0,2\n",
    "-strain_seed 0.0,1.0\n",
    "```\n",
    "\n",
    "You can run the model as:\n",
    "```\n",
    "mpirun -n NUMBER_OF_CORES mandyoc -seed 0,2 -strain_seed 0.0,1.0\n",
    "```\n",
    "You have to change NUMBER_OF_CORES.\n"
   ]
  },
  {
   "cell_type": "code",
   "execution_count": null,
   "id": "91c0ef08-751c-41ba-b949-5c095fb1b88a",
   "metadata": {},
   "outputs": [],
   "source": []
  }
 ],
 "metadata": {
  "interpreter": {
   "hash": "56905383ab6bee97900b520fc05b0a83ba8cc65c7ebdf086939d724f25459375"
  },
  "kernelspec": {
   "display_name": "Python 3 (ipykernel)",
   "language": "python",
   "name": "python3"
  },
  "language_info": {
   "codemirror_mode": {
    "name": "ipython",
    "version": 3
   },
   "file_extension": ".py",
   "mimetype": "text/x-python",
   "name": "python",
   "nbconvert_exporter": "python",
   "pygments_lexer": "ipython3",
   "version": "3.9.7"
  }
 },
 "nbformat": 4,
 "nbformat_minor": 5
}
